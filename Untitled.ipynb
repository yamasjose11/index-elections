{
 "cells": [
  {
   "cell_type": "code",
   "execution_count": 107,
   "metadata": {},
   "outputs": [],
   "source": [
    "# imports \n",
    "import pandas as pd\n",
    "import numpy as np\n",
    "import scipy.stats as stats\n",
    "import matplotlib.pyplot as plt\n",
    "\n",
    "%matplotlib inline\n",
    "plt.style.use('ggplot')"
   ]
  },
  {
   "cell_type": "code",
   "execution_count": 108,
   "metadata": {},
   "outputs": [],
   "source": [
    "# data imports\n",
    "dow = pd.read_csv('data/^DJI.csv')        # Dow Jones Industrial Index \n",
    "nasdaq = pd.read_csv('data/^IXIC.csv')    # Nasdaq Composite Index\n",
    "SP500 = pd.read_csv('data/^GSPC.csv')     # S&P 500 Index"
   ]
  },
  {
   "cell_type": "code",
   "execution_count": 109,
   "metadata": {},
   "outputs": [
    {
     "data": {
      "text/html": [
       "<div>\n",
       "<style scoped>\n",
       "    .dataframe tbody tr th:only-of-type {\n",
       "        vertical-align: middle;\n",
       "    }\n",
       "\n",
       "    .dataframe tbody tr th {\n",
       "        vertical-align: top;\n",
       "    }\n",
       "\n",
       "    .dataframe thead th {\n",
       "        text-align: right;\n",
       "    }\n",
       "</style>\n",
       "<table border=\"1\" class=\"dataframe\">\n",
       "  <thead>\n",
       "    <tr style=\"text-align: right;\">\n",
       "      <th></th>\n",
       "      <th>Date</th>\n",
       "      <th>Open</th>\n",
       "      <th>High</th>\n",
       "      <th>Low</th>\n",
       "      <th>Close</th>\n",
       "      <th>Adj Close</th>\n",
       "      <th>Volume</th>\n",
       "    </tr>\n",
       "  </thead>\n",
       "  <tbody>\n",
       "    <tr>\n",
       "      <th>3</th>\n",
       "      <td>1985-02-01</td>\n",
       "      <td>1276.939941</td>\n",
       "      <td>1286.109985</td>\n",
       "      <td>1269.770020</td>\n",
       "      <td>1277.719971</td>\n",
       "      <td>1277.719971</td>\n",
       "      <td>10980000</td>\n",
       "    </tr>\n",
       "    <tr>\n",
       "      <th>4</th>\n",
       "      <td>1985-02-04</td>\n",
       "      <td>1272.079956</td>\n",
       "      <td>1294.939941</td>\n",
       "      <td>1268.989990</td>\n",
       "      <td>1290.079956</td>\n",
       "      <td>1290.079956</td>\n",
       "      <td>11630000</td>\n",
       "    </tr>\n",
       "    <tr>\n",
       "      <th>5</th>\n",
       "      <td>1985-02-05</td>\n",
       "      <td>1294.060059</td>\n",
       "      <td>1301.130005</td>\n",
       "      <td>1278.599976</td>\n",
       "      <td>1285.229980</td>\n",
       "      <td>1285.229980</td>\n",
       "      <td>13800000</td>\n",
       "    </tr>\n",
       "    <tr>\n",
       "      <th>6</th>\n",
       "      <td>1985-02-06</td>\n",
       "      <td>1284.890015</td>\n",
       "      <td>1294.500000</td>\n",
       "      <td>1275.069946</td>\n",
       "      <td>1280.589966</td>\n",
       "      <td>1280.589966</td>\n",
       "      <td>14610000</td>\n",
       "    </tr>\n",
       "    <tr>\n",
       "      <th>7</th>\n",
       "      <td>1985-02-07</td>\n",
       "      <td>1285.000000</td>\n",
       "      <td>1297.040039</td>\n",
       "      <td>1279.810059</td>\n",
       "      <td>1290.079956</td>\n",
       "      <td>1290.079956</td>\n",
       "      <td>11440000</td>\n",
       "    </tr>\n",
       "    <tr>\n",
       "      <th>...</th>\n",
       "      <td>...</td>\n",
       "      <td>...</td>\n",
       "      <td>...</td>\n",
       "      <td>...</td>\n",
       "      <td>...</td>\n",
       "      <td>...</td>\n",
       "      <td>...</td>\n",
       "    </tr>\n",
       "    <tr>\n",
       "      <th>9004</th>\n",
       "      <td>2020-10-19</td>\n",
       "      <td>28633.550781</td>\n",
       "      <td>28711.929688</td>\n",
       "      <td>28139.400391</td>\n",
       "      <td>28195.419922</td>\n",
       "      <td>28195.419922</td>\n",
       "      <td>358700000</td>\n",
       "    </tr>\n",
       "    <tr>\n",
       "      <th>9005</th>\n",
       "      <td>2020-10-20</td>\n",
       "      <td>28245.849609</td>\n",
       "      <td>28575.029297</td>\n",
       "      <td>28243.039063</td>\n",
       "      <td>28308.789063</td>\n",
       "      <td>28308.789063</td>\n",
       "      <td>350220000</td>\n",
       "    </tr>\n",
       "    <tr>\n",
       "      <th>9006</th>\n",
       "      <td>2020-10-21</td>\n",
       "      <td>28270.660156</td>\n",
       "      <td>28450.640625</td>\n",
       "      <td>28196.390625</td>\n",
       "      <td>28210.820313</td>\n",
       "      <td>28210.820313</td>\n",
       "      <td>299420000</td>\n",
       "    </tr>\n",
       "    <tr>\n",
       "      <th>9007</th>\n",
       "      <td>2020-10-22</td>\n",
       "      <td>28197.419922</td>\n",
       "      <td>28421.310547</td>\n",
       "      <td>28040.179688</td>\n",
       "      <td>28363.660156</td>\n",
       "      <td>28363.660156</td>\n",
       "      <td>330320000</td>\n",
       "    </tr>\n",
       "    <tr>\n",
       "      <th>9008</th>\n",
       "      <td>2020-10-23</td>\n",
       "      <td>28409.650391</td>\n",
       "      <td>28436.519531</td>\n",
       "      <td>28149.820313</td>\n",
       "      <td>28335.570313</td>\n",
       "      <td>28335.570313</td>\n",
       "      <td>347300000</td>\n",
       "    </tr>\n",
       "  </tbody>\n",
       "</table>\n",
       "<p>9006 rows × 7 columns</p>\n",
       "</div>"
      ],
      "text/plain": [
       "            Date          Open          High           Low         Close  \\\n",
       "3     1985-02-01   1276.939941   1286.109985   1269.770020   1277.719971   \n",
       "4     1985-02-04   1272.079956   1294.939941   1268.989990   1290.079956   \n",
       "5     1985-02-05   1294.060059   1301.130005   1278.599976   1285.229980   \n",
       "6     1985-02-06   1284.890015   1294.500000   1275.069946   1280.589966   \n",
       "7     1985-02-07   1285.000000   1297.040039   1279.810059   1290.079956   \n",
       "...          ...           ...           ...           ...           ...   \n",
       "9004  2020-10-19  28633.550781  28711.929688  28139.400391  28195.419922   \n",
       "9005  2020-10-20  28245.849609  28575.029297  28243.039063  28308.789063   \n",
       "9006  2020-10-21  28270.660156  28450.640625  28196.390625  28210.820313   \n",
       "9007  2020-10-22  28197.419922  28421.310547  28040.179688  28363.660156   \n",
       "9008  2020-10-23  28409.650391  28436.519531  28149.820313  28335.570313   \n",
       "\n",
       "         Adj Close     Volume  \n",
       "3      1277.719971   10980000  \n",
       "4      1290.079956   11630000  \n",
       "5      1285.229980   13800000  \n",
       "6      1280.589966   14610000  \n",
       "7      1290.079956   11440000  \n",
       "...            ...        ...  \n",
       "9004  28195.419922  358700000  \n",
       "9005  28308.789063  350220000  \n",
       "9006  28210.820313  299420000  \n",
       "9007  28363.660156  330320000  \n",
       "9008  28335.570313  347300000  \n",
       "\n",
       "[9006 rows x 7 columns]"
      ]
     },
     "execution_count": 109,
     "metadata": {},
     "output_type": "execute_result"
    }
   ],
   "source": [
    "dow_filtered = dow[dow['Date'] > '1985-01-31']\n",
    "dow_filtered"
   ]
  },
  {
   "cell_type": "code",
   "execution_count": 110,
   "metadata": {},
   "outputs": [
    {
     "data": {
      "text/html": [
       "<div>\n",
       "<style scoped>\n",
       "    .dataframe tbody tr th:only-of-type {\n",
       "        vertical-align: middle;\n",
       "    }\n",
       "\n",
       "    .dataframe tbody tr th {\n",
       "        vertical-align: top;\n",
       "    }\n",
       "\n",
       "    .dataframe thead th {\n",
       "        text-align: right;\n",
       "    }\n",
       "</style>\n",
       "<table border=\"1\" class=\"dataframe\">\n",
       "  <thead>\n",
       "    <tr style=\"text-align: right;\">\n",
       "      <th></th>\n",
       "      <th>Date</th>\n",
       "      <th>Open</th>\n",
       "      <th>High</th>\n",
       "      <th>Low</th>\n",
       "      <th>Close</th>\n",
       "      <th>Adj Close</th>\n",
       "      <th>Volume</th>\n",
       "    </tr>\n",
       "  </thead>\n",
       "  <tbody>\n",
       "    <tr>\n",
       "      <th>3535</th>\n",
       "      <td>1985-02-01</td>\n",
       "      <td>277.899994</td>\n",
       "      <td>278.500000</td>\n",
       "      <td>277.899994</td>\n",
       "      <td>278.399994</td>\n",
       "      <td>278.399994</td>\n",
       "      <td>85330000</td>\n",
       "    </tr>\n",
       "    <tr>\n",
       "      <th>3536</th>\n",
       "      <td>1985-02-04</td>\n",
       "      <td>278.799988</td>\n",
       "      <td>280.799988</td>\n",
       "      <td>278.799988</td>\n",
       "      <td>280.799988</td>\n",
       "      <td>280.799988</td>\n",
       "      <td>88440000</td>\n",
       "    </tr>\n",
       "    <tr>\n",
       "      <th>3537</th>\n",
       "      <td>1985-02-05</td>\n",
       "      <td>281.799988</td>\n",
       "      <td>282.700012</td>\n",
       "      <td>281.799988</td>\n",
       "      <td>282.600006</td>\n",
       "      <td>282.600006</td>\n",
       "      <td>98950000</td>\n",
       "    </tr>\n",
       "    <tr>\n",
       "      <th>3538</th>\n",
       "      <td>1985-02-06</td>\n",
       "      <td>283.799988</td>\n",
       "      <td>284.700012</td>\n",
       "      <td>283.799988</td>\n",
       "      <td>284.500000</td>\n",
       "      <td>284.500000</td>\n",
       "      <td>102300000</td>\n",
       "    </tr>\n",
       "    <tr>\n",
       "      <th>3539</th>\n",
       "      <td>1985-02-07</td>\n",
       "      <td>285.500000</td>\n",
       "      <td>287.100006</td>\n",
       "      <td>285.500000</td>\n",
       "      <td>287.100006</td>\n",
       "      <td>287.100006</td>\n",
       "      <td>110230000</td>\n",
       "    </tr>\n",
       "    <tr>\n",
       "      <th>...</th>\n",
       "      <td>...</td>\n",
       "      <td>...</td>\n",
       "      <td>...</td>\n",
       "      <td>...</td>\n",
       "      <td>...</td>\n",
       "      <td>...</td>\n",
       "      <td>...</td>\n",
       "    </tr>\n",
       "    <tr>\n",
       "      <th>12536</th>\n",
       "      <td>2020-10-19</td>\n",
       "      <td>11732.339844</td>\n",
       "      <td>11778.110352</td>\n",
       "      <td>11454.570313</td>\n",
       "      <td>11478.879883</td>\n",
       "      <td>11478.879883</td>\n",
       "      <td>3455430000</td>\n",
       "    </tr>\n",
       "    <tr>\n",
       "      <th>12537</th>\n",
       "      <td>2020-10-20</td>\n",
       "      <td>11531.830078</td>\n",
       "      <td>11632.889648</td>\n",
       "      <td>11471.230469</td>\n",
       "      <td>11516.490234</td>\n",
       "      <td>11516.490234</td>\n",
       "      <td>3483200000</td>\n",
       "    </tr>\n",
       "    <tr>\n",
       "      <th>12538</th>\n",
       "      <td>2020-10-21</td>\n",
       "      <td>11530.389648</td>\n",
       "      <td>11613.790039</td>\n",
       "      <td>11476.080078</td>\n",
       "      <td>11484.690430</td>\n",
       "      <td>11484.690430</td>\n",
       "      <td>3445520000</td>\n",
       "    </tr>\n",
       "    <tr>\n",
       "      <th>12539</th>\n",
       "      <td>2020-10-22</td>\n",
       "      <td>11526.969727</td>\n",
       "      <td>11548.769531</td>\n",
       "      <td>11369.290039</td>\n",
       "      <td>11506.009766</td>\n",
       "      <td>11506.009766</td>\n",
       "      <td>3414590000</td>\n",
       "    </tr>\n",
       "    <tr>\n",
       "      <th>12540</th>\n",
       "      <td>2020-10-23</td>\n",
       "      <td>11536.009766</td>\n",
       "      <td>11548.849609</td>\n",
       "      <td>11434.860352</td>\n",
       "      <td>11548.280273</td>\n",
       "      <td>11548.280273</td>\n",
       "      <td>3134240000</td>\n",
       "    </tr>\n",
       "  </tbody>\n",
       "</table>\n",
       "<p>9006 rows × 7 columns</p>\n",
       "</div>"
      ],
      "text/plain": [
       "             Date          Open          High           Low         Close  \\\n",
       "3535   1985-02-01    277.899994    278.500000    277.899994    278.399994   \n",
       "3536   1985-02-04    278.799988    280.799988    278.799988    280.799988   \n",
       "3537   1985-02-05    281.799988    282.700012    281.799988    282.600006   \n",
       "3538   1985-02-06    283.799988    284.700012    283.799988    284.500000   \n",
       "3539   1985-02-07    285.500000    287.100006    285.500000    287.100006   \n",
       "...           ...           ...           ...           ...           ...   \n",
       "12536  2020-10-19  11732.339844  11778.110352  11454.570313  11478.879883   \n",
       "12537  2020-10-20  11531.830078  11632.889648  11471.230469  11516.490234   \n",
       "12538  2020-10-21  11530.389648  11613.790039  11476.080078  11484.690430   \n",
       "12539  2020-10-22  11526.969727  11548.769531  11369.290039  11506.009766   \n",
       "12540  2020-10-23  11536.009766  11548.849609  11434.860352  11548.280273   \n",
       "\n",
       "          Adj Close      Volume  \n",
       "3535     278.399994    85330000  \n",
       "3536     280.799988    88440000  \n",
       "3537     282.600006    98950000  \n",
       "3538     284.500000   102300000  \n",
       "3539     287.100006   110230000  \n",
       "...             ...         ...  \n",
       "12536  11478.879883  3455430000  \n",
       "12537  11516.490234  3483200000  \n",
       "12538  11484.690430  3445520000  \n",
       "12539  11506.009766  3414590000  \n",
       "12540  11548.280273  3134240000  \n",
       "\n",
       "[9006 rows x 7 columns]"
      ]
     },
     "execution_count": 110,
     "metadata": {},
     "output_type": "execute_result"
    }
   ],
   "source": [
    "nasdaq_filtered = nasdaq[nasdaq['Date'] > '1985-01-31']\n",
    "nasdaq_filtered"
   ]
  },
  {
   "cell_type": "code",
   "execution_count": 111,
   "metadata": {},
   "outputs": [
    {
     "data": {
      "text/html": [
       "<div>\n",
       "<style scoped>\n",
       "    .dataframe tbody tr th:only-of-type {\n",
       "        vertical-align: middle;\n",
       "    }\n",
       "\n",
       "    .dataframe tbody tr th {\n",
       "        vertical-align: top;\n",
       "    }\n",
       "\n",
       "    .dataframe thead th {\n",
       "        text-align: right;\n",
       "    }\n",
       "</style>\n",
       "<table border=\"1\" class=\"dataframe\">\n",
       "  <thead>\n",
       "    <tr style=\"text-align: right;\">\n",
       "      <th></th>\n",
       "      <th>Date</th>\n",
       "      <th>Open</th>\n",
       "      <th>High</th>\n",
       "      <th>Low</th>\n",
       "      <th>Close</th>\n",
       "      <th>Adj Close</th>\n",
       "      <th>Volume</th>\n",
       "    </tr>\n",
       "  </thead>\n",
       "  <tbody>\n",
       "    <tr>\n",
       "      <th>14309</th>\n",
       "      <td>1985-02-01</td>\n",
       "      <td>179.630005</td>\n",
       "      <td>179.630005</td>\n",
       "      <td>178.440002</td>\n",
       "      <td>178.630005</td>\n",
       "      <td>178.630005</td>\n",
       "      <td>105400000</td>\n",
       "    </tr>\n",
       "    <tr>\n",
       "      <th>14310</th>\n",
       "      <td>1985-02-04</td>\n",
       "      <td>178.630005</td>\n",
       "      <td>180.350006</td>\n",
       "      <td>177.750000</td>\n",
       "      <td>180.350006</td>\n",
       "      <td>180.350006</td>\n",
       "      <td>113700000</td>\n",
       "    </tr>\n",
       "    <tr>\n",
       "      <th>14311</th>\n",
       "      <td>1985-02-05</td>\n",
       "      <td>180.350006</td>\n",
       "      <td>181.529999</td>\n",
       "      <td>180.070007</td>\n",
       "      <td>180.610001</td>\n",
       "      <td>180.610001</td>\n",
       "      <td>143900000</td>\n",
       "    </tr>\n",
       "    <tr>\n",
       "      <th>14312</th>\n",
       "      <td>1985-02-06</td>\n",
       "      <td>180.610001</td>\n",
       "      <td>181.500000</td>\n",
       "      <td>180.320007</td>\n",
       "      <td>180.429993</td>\n",
       "      <td>180.429993</td>\n",
       "      <td>141000000</td>\n",
       "    </tr>\n",
       "    <tr>\n",
       "      <th>14313</th>\n",
       "      <td>1985-02-07</td>\n",
       "      <td>180.429993</td>\n",
       "      <td>181.960007</td>\n",
       "      <td>180.429993</td>\n",
       "      <td>181.820007</td>\n",
       "      <td>181.820007</td>\n",
       "      <td>151700000</td>\n",
       "    </tr>\n",
       "    <tr>\n",
       "      <th>...</th>\n",
       "      <td>...</td>\n",
       "      <td>...</td>\n",
       "      <td>...</td>\n",
       "      <td>...</td>\n",
       "      <td>...</td>\n",
       "      <td>...</td>\n",
       "      <td>...</td>\n",
       "    </tr>\n",
       "    <tr>\n",
       "      <th>23310</th>\n",
       "      <td>2020-10-19</td>\n",
       "      <td>3493.659912</td>\n",
       "      <td>3502.419922</td>\n",
       "      <td>3419.929932</td>\n",
       "      <td>3426.919922</td>\n",
       "      <td>3426.919922</td>\n",
       "      <td>4086200000</td>\n",
       "    </tr>\n",
       "    <tr>\n",
       "      <th>23311</th>\n",
       "      <td>2020-10-20</td>\n",
       "      <td>3439.379883</td>\n",
       "      <td>3476.929932</td>\n",
       "      <td>3435.649902</td>\n",
       "      <td>3443.120117</td>\n",
       "      <td>3443.120117</td>\n",
       "      <td>3901260000</td>\n",
       "    </tr>\n",
       "    <tr>\n",
       "      <th>23312</th>\n",
       "      <td>2020-10-21</td>\n",
       "      <td>3439.909912</td>\n",
       "      <td>3464.860107</td>\n",
       "      <td>3433.060059</td>\n",
       "      <td>3435.560059</td>\n",
       "      <td>3435.560059</td>\n",
       "      <td>4097750000</td>\n",
       "    </tr>\n",
       "    <tr>\n",
       "      <th>23313</th>\n",
       "      <td>2020-10-22</td>\n",
       "      <td>3438.500000</td>\n",
       "      <td>3460.530029</td>\n",
       "      <td>3415.340088</td>\n",
       "      <td>3453.489990</td>\n",
       "      <td>3453.489990</td>\n",
       "      <td>4163630000</td>\n",
       "    </tr>\n",
       "    <tr>\n",
       "      <th>23314</th>\n",
       "      <td>2020-10-23</td>\n",
       "      <td>3464.899902</td>\n",
       "      <td>3466.459961</td>\n",
       "      <td>3440.449951</td>\n",
       "      <td>3465.389893</td>\n",
       "      <td>3465.389893</td>\n",
       "      <td>3646570000</td>\n",
       "    </tr>\n",
       "  </tbody>\n",
       "</table>\n",
       "<p>9006 rows × 7 columns</p>\n",
       "</div>"
      ],
      "text/plain": [
       "             Date         Open         High          Low        Close  \\\n",
       "14309  1985-02-01   179.630005   179.630005   178.440002   178.630005   \n",
       "14310  1985-02-04   178.630005   180.350006   177.750000   180.350006   \n",
       "14311  1985-02-05   180.350006   181.529999   180.070007   180.610001   \n",
       "14312  1985-02-06   180.610001   181.500000   180.320007   180.429993   \n",
       "14313  1985-02-07   180.429993   181.960007   180.429993   181.820007   \n",
       "...           ...          ...          ...          ...          ...   \n",
       "23310  2020-10-19  3493.659912  3502.419922  3419.929932  3426.919922   \n",
       "23311  2020-10-20  3439.379883  3476.929932  3435.649902  3443.120117   \n",
       "23312  2020-10-21  3439.909912  3464.860107  3433.060059  3435.560059   \n",
       "23313  2020-10-22  3438.500000  3460.530029  3415.340088  3453.489990   \n",
       "23314  2020-10-23  3464.899902  3466.459961  3440.449951  3465.389893   \n",
       "\n",
       "         Adj Close      Volume  \n",
       "14309   178.630005   105400000  \n",
       "14310   180.350006   113700000  \n",
       "14311   180.610001   143900000  \n",
       "14312   180.429993   141000000  \n",
       "14313   181.820007   151700000  \n",
       "...            ...         ...  \n",
       "23310  3426.919922  4086200000  \n",
       "23311  3443.120117  3901260000  \n",
       "23312  3435.560059  4097750000  \n",
       "23313  3453.489990  4163630000  \n",
       "23314  3465.389893  3646570000  \n",
       "\n",
       "[9006 rows x 7 columns]"
      ]
     },
     "execution_count": 111,
     "metadata": {},
     "output_type": "execute_result"
    }
   ],
   "source": [
    "SP500_filtered = SP500[SP500['Date'] > '1985-01-31']\n",
    "SP500_filtered"
   ]
  },
  {
   "cell_type": "code",
   "execution_count": 112,
   "metadata": {},
   "outputs": [
    {
     "data": {
      "text/plain": [
       "range(0, 9006)"
      ]
     },
     "execution_count": 112,
     "metadata": {},
     "output_type": "execute_result"
    }
   ],
   "source": [
    "x = range(len(dow_filtered['Volume']))\n",
    "x"
   ]
  },
  {
   "cell_type": "code",
   "execution_count": null,
   "metadata": {},
   "outputs": [],
   "source": []
  },
  {
   "cell_type": "code",
   "execution_count": 118,
   "metadata": {},
   "outputs": [
    {
     "name": "stderr",
     "output_type": "stream",
     "text": [
      "/home/yamasjose/anaconda3/lib/python3.7/site-packages/ipykernel_launcher.py:1: SettingWithCopyWarning: \n",
      "A value is trying to be set on a copy of a slice from a DataFrame.\n",
      "Try using .loc[row_indexer,col_indexer] = value instead\n",
      "\n",
      "See the caveats in the documentation: https://pandas.pydata.org/pandas-docs/stable/user_guide/indexing.html#returning-a-view-versus-a-copy\n",
      "  \"\"\"Entry point for launching an IPython kernel.\n"
     ]
    },
    {
     "data": {
      "text/html": [
       "<div>\n",
       "<style scoped>\n",
       "    .dataframe tbody tr th:only-of-type {\n",
       "        vertical-align: middle;\n",
       "    }\n",
       "\n",
       "    .dataframe tbody tr th {\n",
       "        vertical-align: top;\n",
       "    }\n",
       "\n",
       "    .dataframe thead th {\n",
       "        text-align: right;\n",
       "    }\n",
       "</style>\n",
       "<table border=\"1\" class=\"dataframe\">\n",
       "  <thead>\n",
       "    <tr style=\"text-align: right;\">\n",
       "      <th></th>\n",
       "      <th>Date</th>\n",
       "      <th>Open</th>\n",
       "      <th>High</th>\n",
       "      <th>Low</th>\n",
       "      <th>Close</th>\n",
       "      <th>Adj Close</th>\n",
       "      <th>Volume</th>\n",
       "      <th>returns_daily</th>\n",
       "    </tr>\n",
       "  </thead>\n",
       "  <tbody>\n",
       "    <tr>\n",
       "      <th>3</th>\n",
       "      <td>1985-02-01</td>\n",
       "      <td>1276.939941</td>\n",
       "      <td>1286.109985</td>\n",
       "      <td>1269.770020</td>\n",
       "      <td>1277.719971</td>\n",
       "      <td>1277.719971</td>\n",
       "      <td>10980000</td>\n",
       "      <td>NaN</td>\n",
       "    </tr>\n",
       "    <tr>\n",
       "      <th>4</th>\n",
       "      <td>1985-02-04</td>\n",
       "      <td>1272.079956</td>\n",
       "      <td>1294.939941</td>\n",
       "      <td>1268.989990</td>\n",
       "      <td>1290.079956</td>\n",
       "      <td>1290.079956</td>\n",
       "      <td>11630000</td>\n",
       "      <td>0.059199</td>\n",
       "    </tr>\n",
       "    <tr>\n",
       "      <th>5</th>\n",
       "      <td>1985-02-05</td>\n",
       "      <td>1294.060059</td>\n",
       "      <td>1301.130005</td>\n",
       "      <td>1278.599976</td>\n",
       "      <td>1285.229980</td>\n",
       "      <td>1285.229980</td>\n",
       "      <td>13800000</td>\n",
       "      <td>0.186586</td>\n",
       "    </tr>\n",
       "    <tr>\n",
       "      <th>6</th>\n",
       "      <td>1985-02-06</td>\n",
       "      <td>1284.890015</td>\n",
       "      <td>1294.500000</td>\n",
       "      <td>1275.069946</td>\n",
       "      <td>1280.589966</td>\n",
       "      <td>1280.589966</td>\n",
       "      <td>14610000</td>\n",
       "      <td>0.058696</td>\n",
       "    </tr>\n",
       "    <tr>\n",
       "      <th>7</th>\n",
       "      <td>1985-02-07</td>\n",
       "      <td>1285.000000</td>\n",
       "      <td>1297.040039</td>\n",
       "      <td>1279.810059</td>\n",
       "      <td>1290.079956</td>\n",
       "      <td>1290.079956</td>\n",
       "      <td>11440000</td>\n",
       "      <td>-0.216975</td>\n",
       "    </tr>\n",
       "    <tr>\n",
       "      <th>...</th>\n",
       "      <td>...</td>\n",
       "      <td>...</td>\n",
       "      <td>...</td>\n",
       "      <td>...</td>\n",
       "      <td>...</td>\n",
       "      <td>...</td>\n",
       "      <td>...</td>\n",
       "      <td>...</td>\n",
       "    </tr>\n",
       "    <tr>\n",
       "      <th>9004</th>\n",
       "      <td>2020-10-19</td>\n",
       "      <td>28633.550781</td>\n",
       "      <td>28711.929688</td>\n",
       "      <td>28139.400391</td>\n",
       "      <td>28195.419922</td>\n",
       "      <td>28195.419922</td>\n",
       "      <td>358700000</td>\n",
       "      <td>0.007188</td>\n",
       "    </tr>\n",
       "    <tr>\n",
       "      <th>9005</th>\n",
       "      <td>2020-10-20</td>\n",
       "      <td>28245.849609</td>\n",
       "      <td>28575.029297</td>\n",
       "      <td>28243.039063</td>\n",
       "      <td>28308.789063</td>\n",
       "      <td>28308.789063</td>\n",
       "      <td>350220000</td>\n",
       "      <td>-0.023641</td>\n",
       "    </tr>\n",
       "    <tr>\n",
       "      <th>9006</th>\n",
       "      <td>2020-10-21</td>\n",
       "      <td>28270.660156</td>\n",
       "      <td>28450.640625</td>\n",
       "      <td>28196.390625</td>\n",
       "      <td>28210.820313</td>\n",
       "      <td>28210.820313</td>\n",
       "      <td>299420000</td>\n",
       "      <td>-0.145052</td>\n",
       "    </tr>\n",
       "    <tr>\n",
       "      <th>9007</th>\n",
       "      <td>2020-10-22</td>\n",
       "      <td>28197.419922</td>\n",
       "      <td>28421.310547</td>\n",
       "      <td>28040.179688</td>\n",
       "      <td>28363.660156</td>\n",
       "      <td>28363.660156</td>\n",
       "      <td>330320000</td>\n",
       "      <td>0.103200</td>\n",
       "    </tr>\n",
       "    <tr>\n",
       "      <th>9008</th>\n",
       "      <td>2020-10-23</td>\n",
       "      <td>28409.650391</td>\n",
       "      <td>28436.519531</td>\n",
       "      <td>28149.820313</td>\n",
       "      <td>28335.570313</td>\n",
       "      <td>28335.570313</td>\n",
       "      <td>347300000</td>\n",
       "      <td>0.051405</td>\n",
       "    </tr>\n",
       "  </tbody>\n",
       "</table>\n",
       "<p>9006 rows × 8 columns</p>\n",
       "</div>"
      ],
      "text/plain": [
       "            Date          Open          High           Low         Close  \\\n",
       "3     1985-02-01   1276.939941   1286.109985   1269.770020   1277.719971   \n",
       "4     1985-02-04   1272.079956   1294.939941   1268.989990   1290.079956   \n",
       "5     1985-02-05   1294.060059   1301.130005   1278.599976   1285.229980   \n",
       "6     1985-02-06   1284.890015   1294.500000   1275.069946   1280.589966   \n",
       "7     1985-02-07   1285.000000   1297.040039   1279.810059   1290.079956   \n",
       "...          ...           ...           ...           ...           ...   \n",
       "9004  2020-10-19  28633.550781  28711.929688  28139.400391  28195.419922   \n",
       "9005  2020-10-20  28245.849609  28575.029297  28243.039063  28308.789063   \n",
       "9006  2020-10-21  28270.660156  28450.640625  28196.390625  28210.820313   \n",
       "9007  2020-10-22  28197.419922  28421.310547  28040.179688  28363.660156   \n",
       "9008  2020-10-23  28409.650391  28436.519531  28149.820313  28335.570313   \n",
       "\n",
       "         Adj Close     Volume  returns_daily  \n",
       "3      1277.719971   10980000            NaN  \n",
       "4      1290.079956   11630000       0.059199  \n",
       "5      1285.229980   13800000       0.186586  \n",
       "6      1280.589966   14610000       0.058696  \n",
       "7      1290.079956   11440000      -0.216975  \n",
       "...            ...        ...            ...  \n",
       "9004  28195.419922  358700000       0.007188  \n",
       "9005  28308.789063  350220000      -0.023641  \n",
       "9006  28210.820313  299420000      -0.145052  \n",
       "9007  28363.660156  330320000       0.103200  \n",
       "9008  28335.570313  347300000       0.051405  \n",
       "\n",
       "[9006 rows x 8 columns]"
      ]
     },
     "execution_count": 118,
     "metadata": {},
     "output_type": "execute_result"
    }
   ],
   "source": [
    "dow_filtered['returns_daily'] = dow_filtered['Volume'].pct_change()\n",
    "returns_daily = dow_filtered['Volume'].pct_change()\n",
    "dow_filtered"
   ]
  },
  {
   "cell_type": "code",
   "execution_count": 119,
   "metadata": {},
   "outputs": [
    {
     "data": {
      "text/plain": [
       "3            NaN\n",
       "4       0.059199\n",
       "5       0.186586\n",
       "6       0.058696\n",
       "7      -0.216975\n",
       "          ...   \n",
       "9004    0.007188\n",
       "9005   -0.023641\n",
       "9006   -0.145052\n",
       "9007    0.103200\n",
       "9008    0.051405\n",
       "Name: Volume, Length: 9006, dtype: float64"
      ]
     },
     "execution_count": 119,
     "metadata": {},
     "output_type": "execute_result"
    }
   ],
   "source": [
    "returns_daily"
   ]
  },
  {
   "cell_type": "code",
   "execution_count": null,
   "metadata": {},
   "outputs": [],
   "source": []
  },
  {
   "cell_type": "code",
   "execution_count": 120,
   "metadata": {},
   "outputs": [
    {
     "ename": "AttributeError",
     "evalue": "'Series' object has no attribute 'plt'",
     "output_type": "error",
     "traceback": [
      "\u001b[0;31m---------------------------------------------------------------------------\u001b[0m",
      "\u001b[0;31mAttributeError\u001b[0m                            Traceback (most recent call last)",
      "\u001b[0;32m<ipython-input-120-6f0e4ce8fa7b>\u001b[0m in \u001b[0;36m<module>\u001b[0;34m\u001b[0m\n\u001b[1;32m      1\u001b[0m \u001b[0mfig\u001b[0m\u001b[0;34m,\u001b[0m \u001b[0max\u001b[0m \u001b[0;34m=\u001b[0m \u001b[0mplt\u001b[0m\u001b[0;34m.\u001b[0m\u001b[0msubplots\u001b[0m\u001b[0;34m(\u001b[0m\u001b[0mfigsize\u001b[0m\u001b[0;34m=\u001b[0m\u001b[0;34m(\u001b[0m\u001b[0;36m12\u001b[0m\u001b[0;34m,\u001b[0m\u001b[0;36m5\u001b[0m\u001b[0;34m)\u001b[0m\u001b[0;34m)\u001b[0m\u001b[0;34m\u001b[0m\u001b[0;34m\u001b[0m\u001b[0m\n\u001b[0;32m----> 2\u001b[0;31m \u001b[0mreturns_daily\u001b[0m\u001b[0;34m.\u001b[0m\u001b[0mplt\u001b[0m\u001b[0;34m.\u001b[0m\u001b[0mhist\u001b[0m\u001b[0;34m(\u001b[0m\u001b[0;34m)\u001b[0m\u001b[0;34m\u001b[0m\u001b[0;34m\u001b[0m\u001b[0m\n\u001b[0m",
      "\u001b[0;32m~/anaconda3/lib/python3.7/site-packages/pandas/core/generic.py\u001b[0m in \u001b[0;36m__getattr__\u001b[0;34m(self, name)\u001b[0m\n\u001b[1;32m   5137\u001b[0m             \u001b[0;32mif\u001b[0m \u001b[0mself\u001b[0m\u001b[0;34m.\u001b[0m\u001b[0m_info_axis\u001b[0m\u001b[0;34m.\u001b[0m\u001b[0m_can_hold_identifiers_and_holds_name\u001b[0m\u001b[0;34m(\u001b[0m\u001b[0mname\u001b[0m\u001b[0;34m)\u001b[0m\u001b[0;34m:\u001b[0m\u001b[0;34m\u001b[0m\u001b[0;34m\u001b[0m\u001b[0m\n\u001b[1;32m   5138\u001b[0m                 \u001b[0;32mreturn\u001b[0m \u001b[0mself\u001b[0m\u001b[0;34m[\u001b[0m\u001b[0mname\u001b[0m\u001b[0;34m]\u001b[0m\u001b[0;34m\u001b[0m\u001b[0;34m\u001b[0m\u001b[0m\n\u001b[0;32m-> 5139\u001b[0;31m             \u001b[0;32mreturn\u001b[0m \u001b[0mobject\u001b[0m\u001b[0;34m.\u001b[0m\u001b[0m__getattribute__\u001b[0m\u001b[0;34m(\u001b[0m\u001b[0mself\u001b[0m\u001b[0;34m,\u001b[0m \u001b[0mname\u001b[0m\u001b[0;34m)\u001b[0m\u001b[0;34m\u001b[0m\u001b[0;34m\u001b[0m\u001b[0m\n\u001b[0m\u001b[1;32m   5140\u001b[0m \u001b[0;34m\u001b[0m\u001b[0m\n\u001b[1;32m   5141\u001b[0m     \u001b[0;32mdef\u001b[0m \u001b[0m__setattr__\u001b[0m\u001b[0;34m(\u001b[0m\u001b[0mself\u001b[0m\u001b[0;34m,\u001b[0m \u001b[0mname\u001b[0m\u001b[0;34m:\u001b[0m \u001b[0mstr\u001b[0m\u001b[0;34m,\u001b[0m \u001b[0mvalue\u001b[0m\u001b[0;34m)\u001b[0m \u001b[0;34m->\u001b[0m \u001b[0;32mNone\u001b[0m\u001b[0;34m:\u001b[0m\u001b[0;34m\u001b[0m\u001b[0;34m\u001b[0m\u001b[0m\n",
      "\u001b[0;31mAttributeError\u001b[0m: 'Series' object has no attribute 'plt'"
     ]
    },
    {
     "data": {
      "image/png": "[encoded data removed]",
      "text/plain": [
       "<Figure size 864x360 with 1 Axes>"
      ]
     },
     "metadata": {},
     "output_type": "display_data"
    }
   ],
   "source": [
    "fig, ax = plt.subplots(figsize=(12,5))\n",
    "returns_daily.plt.hist()"
   ]
  },
  {
   "cell_type": "code",
   "execution_count": 92,
   "metadata": {
    "scrolled": false
   },
   "outputs": [
    {
     "data": {
      "text/plain": [
       "3            NaN\n",
       "4       0.059199\n",
       "5       0.186586\n",
       "6       0.058696\n",
       "7      -0.216975\n",
       "          ...   \n",
       "9004    0.007188\n",
       "9005   -0.023641\n",
       "9006   -0.145052\n",
       "9007    0.103200\n",
       "9008    0.051405\n",
       "Name: Volume, Length: 9006, dtype: float64"
      ]
     },
     "execution_count": 92,
     "metadata": {},
     "output_type": "execute_result"
    },
    {
     "data": {
      "image/png": "[encoded data removed]",
      "text/plain": [
       "<Figure size 864x360 with 1 Axes>"
      ]
     },
     "metadata": {},
     "output_type": "display_data"
    }
   ],
   "source": [
    "fig, ax = plt.subplots(figsize=(12,5))\n",
    "# ax.plt(x, dow_filtered['Volume'])\n",
    "# ax.hist(dow_filtered['Volume'])\n",
    "# dow_filtered['High'].plot()\n",
    "# dow_filtered['Low'].plot()"
   ]
  },
  {
   "cell_type": "code",
   "execution_count": 69,
   "metadata": {},
   "outputs": [
    {
     "data": {
      "text/plain": [
       "(array([3.384e+03, 8.700e+02, 3.612e+03, 8.700e+02, 1.240e+02, 1.020e+02,\n",
       "        3.000e+01, 9.000e+00, 3.000e+00, 2.000e+00]),\n",
       " array([4.367000e+07, 7.672260e+08, 1.490782e+09, 2.214338e+09,\n",
       "        2.937894e+09, 3.661450e+09, 4.385006e+09, 5.108562e+09,\n",
       "        5.832118e+09, 6.555674e+09, 7.279230e+09]),\n",
       " <BarContainer object of 10 artists>)"
      ]
     },
     "execution_count": 69,
     "metadata": {},
     "output_type": "execute_result"
    },
    {
     "data": {
      "image/png": "[encoded data removed]",
      "text/plain": [
       "<Figure size 864x360 with 1 Axes>"
      ]
     },
     "metadata": {},
     "output_type": "display_data"
    }
   ],
   "source": [
    "fig, ax = plt.subplots(figsize=(12,5))\n",
    "ax.hist(nasdaq_filtered['Volume'])"
   ]
  },
  {
   "cell_type": "code",
   "execution_count": 71,
   "metadata": {},
   "outputs": [
    {
     "data": {
      "text/plain": [
       "(array([4.158e+03, 1.233e+03, 1.338e+03, 1.537e+03, 4.580e+02, 1.830e+02,\n",
       "        6.400e+01, 2.700e+01, 6.000e+00, 2.000e+00]),\n",
       " array([1.4990000e+07, 1.1591140e+09, 2.3032380e+09, 3.4473620e+09,\n",
       "        4.5914860e+09, 5.7356100e+09, 6.8797340e+09, 8.0238580e+09,\n",
       "        9.1679820e+09, 1.0312106e+10, 1.1456230e+10]),\n",
       " <BarContainer object of 10 artists>)"
      ]
     },
     "execution_count": 71,
     "metadata": {},
     "output_type": "execute_result"
    },
    {
     "data": {
      "image/png": "[encoded data removed]",
      "text/plain": [
       "<Figure size 864x360 with 1 Axes>"
      ]
     },
     "metadata": {},
     "output_type": "display_data"
    }
   ],
   "source": [
    "fig, ax = plt.subplots(figsize=(12,5))\n",
    "ax.hist(SP500_filtered['Volume'])"
   ]
  },
  {
   "cell_type": "code",
   "execution_count": null,
   "metadata": {},
   "outputs": [],
   "source": []
  },
  {
   "cell_type": "code",
   "execution_count": null,
   "metadata": {},
   "outputs": [],
   "source": []
  },
  {
   "cell_type": "code",
   "execution_count": null,
   "metadata": {},
   "outputs": [],
   "source": []
  },
  {
   "cell_type": "code",
   "execution_count": null,
   "metadata": {},
   "outputs": [],
   "source": []
  },
  {
   "cell_type": "code",
   "execution_count": null,
   "metadata": {},
   "outputs": [],
   "source": []
  },
  {
   "cell_type": "code",
   "execution_count": null,
   "metadata": {},
   "outputs": [],
   "source": []
  },
  {
   "cell_type": "code",
   "execution_count": null,
   "metadata": {},
   "outputs": [],
   "source": []
  },
  {
   "cell_type": "code",
   "execution_count": null,
   "metadata": {},
   "outputs": [],
   "source": []
  },
  {
   "cell_type": "code",
   "execution_count": null,
   "metadata": {},
   "outputs": [],
   "source": []
  },
  {
   "cell_type": "code",
   "execution_count": null,
   "metadata": {},
   "outputs": [],
   "source": []
  },
  {
   "cell_type": "code",
   "execution_count": null,
   "metadata": {},
   "outputs": [],
   "source": []
  },
  {
   "cell_type": "code",
   "execution_count": null,
   "metadata": {},
   "outputs": [],
   "source": []
  },
  {
   "cell_type": "code",
   "execution_count": null,
   "metadata": {},
   "outputs": [],
   "source": []
  },
  {
   "cell_type": "code",
   "execution_count": null,
   "metadata": {},
   "outputs": [],
   "source": []
  },
  {
   "cell_type": "code",
   "execution_count": null,
   "metadata": {},
   "outputs": [],
   "source": []
  },
  {
   "cell_type": "code",
   "execution_count": null,
   "metadata": {},
   "outputs": [],
   "source": []
  },
  {
   "cell_type": "code",
   "execution_count": null,
   "metadata": {},
   "outputs": [],
   "source": []
  },
  {
   "cell_type": "code",
   "execution_count": null,
   "metadata": {},
   "outputs": [],
   "source": []
  },
  {
   "cell_type": "code",
   "execution_count": null,
   "metadata": {},
   "outputs": [],
   "source": []
  },
  {
   "cell_type": "code",
   "execution_count": null,
   "metadata": {},
   "outputs": [],
   "source": []
  },
  {
   "cell_type": "code",
   "execution_count": null,
   "metadata": {},
   "outputs": [],
   "source": []
  },
  {
   "cell_type": "code",
   "execution_count": null,
   "metadata": {},
   "outputs": [],
   "source": []
  },
  {
   "cell_type": "code",
   "execution_count": null,
   "metadata": {},
   "outputs": [],
   "source": []
  },
  {
   "cell_type": "code",
   "execution_count": null,
   "metadata": {},
   "outputs": [],
   "source": []
  },
  {
   "cell_type": "code",
   "execution_count": null,
   "metadata": {},
   "outputs": [],
   "source": []
  },
  {
   "cell_type": "code",
   "execution_count": null,
   "metadata": {},
   "outputs": [],
   "source": []
  },
  {
   "cell_type": "code",
   "execution_count": null,
   "metadata": {},
   "outputs": [],
   "source": []
  },
  {
   "cell_type": "code",
   "execution_count": null,
   "metadata": {},
   "outputs": [],
   "source": []
  },
  {
   "cell_type": "code",
   "execution_count": null,
   "metadata": {},
   "outputs": [],
   "source": []
  },
  {
   "cell_type": "code",
   "execution_count": null,
   "metadata": {},
   "outputs": [],
   "source": []
  },
  {
   "cell_type": "code",
   "execution_count": null,
   "metadata": {},
   "outputs": [],
   "source": []
  },
  {
   "cell_type": "code",
   "execution_count": null,
   "metadata": {},
   "outputs": [],
   "source": []
  },
  {
   "cell_type": "code",
   "execution_count": null,
   "metadata": {},
   "outputs": [],
   "source": []
  },
  {
   "cell_type": "code",
   "execution_count": null,
   "metadata": {},
   "outputs": [],
   "source": []
  },
  {
   "cell_type": "code",
   "execution_count": null,
   "metadata": {},
   "outputs": [],
   "source": []
  },
  {
   "cell_type": "code",
   "execution_count": null,
   "metadata": {},
   "outputs": [],
   "source": []
  },
  {
   "cell_type": "code",
   "execution_count": null,
   "metadata": {},
   "outputs": [],
   "source": []
  },
  {
   "cell_type": "code",
   "execution_count": null,
   "metadata": {},
   "outputs": [],
   "source": []
  },
  {
   "cell_type": "code",
   "execution_count": null,
   "metadata": {},
   "outputs": [],
   "source": []
  },
  {
   "cell_type": "code",
   "execution_count": null,
   "metadata": {},
   "outputs": [],
   "source": []
  },
  {
   "cell_type": "code",
   "execution_count": null,
   "metadata": {},
   "outputs": [],
   "source": []
  },
  {
   "cell_type": "code",
   "execution_count": null,
   "metadata": {},
   "outputs": [],
   "source": []
  },
  {
   "cell_type": "code",
   "execution_count": null,
   "metadata": {},
   "outputs": [],
   "source": []
  },
  {
   "cell_type": "code",
   "execution_count": null,
   "metadata": {},
   "outputs": [],
   "source": []
  },
  {
   "cell_type": "code",
   "execution_count": null,
   "metadata": {},
   "outputs": [],
   "source": []
  },
  {
   "cell_type": "code",
   "execution_count": null,
   "metadata": {},
   "outputs": [],
   "source": []
  },
  {
   "cell_type": "code",
   "execution_count": null,
   "metadata": {},
   "outputs": [],
   "source": []
  },
  {
   "cell_type": "code",
   "execution_count": null,
   "metadata": {},
   "outputs": [],
   "source": []
  },
  {
   "cell_type": "code",
   "execution_count": null,
   "metadata": {},
   "outputs": [],
   "source": []
  },
  {
   "cell_type": "code",
   "execution_count": null,
   "metadata": {},
   "outputs": [],
   "source": []
  },
  {
   "cell_type": "code",
   "execution_count": null,
   "metadata": {},
   "outputs": [],
   "source": []
  },
  {
   "cell_type": "code",
   "execution_count": null,
   "metadata": {},
   "outputs": [],
   "source": []
  },
  {
   "cell_type": "code",
   "execution_count": null,
   "metadata": {},
   "outputs": [],
   "source": []
  },
  {
   "cell_type": "code",
   "execution_count": null,
   "metadata": {},
   "outputs": [],
   "source": []
  },
  {
   "cell_type": "code",
   "execution_count": null,
   "metadata": {},
   "outputs": [],
   "source": []
  },
  {
   "cell_type": "code",
   "execution_count": null,
   "metadata": {},
   "outputs": [],
   "source": []
  },
  {
   "cell_type": "code",
   "execution_count": null,
   "metadata": {},
   "outputs": [],
   "source": []
  },
  {
   "cell_type": "code",
   "execution_count": null,
   "metadata": {},
   "outputs": [],
   "source": []
  },
  {
   "cell_type": "code",
   "execution_count": null,
   "metadata": {},
   "outputs": [],
   "source": []
  },
  {
   "cell_type": "code",
   "execution_count": null,
   "metadata": {},
   "outputs": [],
   "source": []
  },
  {
   "cell_type": "code",
   "execution_count": null,
   "metadata": {},
   "outputs": [],
   "source": []
  },
  {
   "cell_type": "code",
   "execution_count": null,
   "metadata": {},
   "outputs": [],
   "source": []
  },
  {
   "cell_type": "code",
   "execution_count": null,
   "metadata": {},
   "outputs": [],
   "source": []
  },
  {
   "cell_type": "code",
   "execution_count": null,
   "metadata": {},
   "outputs": [],
   "source": []
  },
  {
   "cell_type": "code",
   "execution_count": null,
   "metadata": {},
   "outputs": [],
   "source": []
  },
  {
   "cell_type": "code",
   "execution_count": null,
   "metadata": {},
   "outputs": [],
   "source": []
  },
  {
   "cell_type": "code",
   "execution_count": null,
   "metadata": {},
   "outputs": [],
   "source": []
  },
  {
   "cell_type": "code",
   "execution_count": null,
   "metadata": {},
   "outputs": [],
   "source": []
  },
  {
   "cell_type": "code",
   "execution_count": null,
   "metadata": {},
   "outputs": [],
   "source": []
  },
  {
   "cell_type": "code",
   "execution_count": null,
   "metadata": {},
   "outputs": [],
   "source": []
  },
  {
   "cell_type": "code",
   "execution_count": null,
   "metadata": {},
   "outputs": [],
   "source": []
  },
  {
   "cell_type": "code",
   "execution_count": null,
   "metadata": {},
   "outputs": [],
   "source": []
  },
  {
   "cell_type": "code",
   "execution_count": null,
   "metadata": {},
   "outputs": [],
   "source": []
  },
  {
   "cell_type": "code",
   "execution_count": null,
   "metadata": {},
   "outputs": [],
   "source": []
  },
  {
   "cell_type": "code",
   "execution_count": null,
   "metadata": {},
   "outputs": [],
   "source": []
  },
  {
   "cell_type": "code",
   "execution_count": null,
   "metadata": {},
   "outputs": [],
   "source": []
  },
  {
   "cell_type": "code",
   "execution_count": null,
   "metadata": {},
   "outputs": [],
   "source": []
  },
  {
   "cell_type": "code",
   "execution_count": null,
   "metadata": {},
   "outputs": [],
   "source": []
  },
  {
   "cell_type": "code",
   "execution_count": null,
   "metadata": {},
   "outputs": [],
   "source": []
  },
  {
   "cell_type": "code",
   "execution_count": null,
   "metadata": {},
   "outputs": [],
   "source": []
  },
  {
   "cell_type": "code",
   "execution_count": null,
   "metadata": {},
   "outputs": [],
   "source": []
  },
  {
   "cell_type": "code",
   "execution_count": null,
   "metadata": {},
   "outputs": [],
   "source": []
  },
  {
   "cell_type": "code",
   "execution_count": null,
   "metadata": {},
   "outputs": [],
   "source": []
  },
  {
   "cell_type": "code",
   "execution_count": null,
   "metadata": {},
   "outputs": [],
   "source": []
  },
  {
   "cell_type": "code",
   "execution_count": null,
   "metadata": {},
   "outputs": [],
   "source": []
  },
  {
   "cell_type": "code",
   "execution_count": null,
   "metadata": {},
   "outputs": [],
   "source": []
  },
  {
   "cell_type": "code",
   "execution_count": null,
   "metadata": {},
   "outputs": [],
   "source": []
  },
  {
   "cell_type": "code",
   "execution_count": null,
   "metadata": {},
   "outputs": [],
   "source": []
  },
  {
   "cell_type": "code",
   "execution_count": null,
   "metadata": {},
   "outputs": [],
   "source": []
  },
  {
   "cell_type": "code",
   "execution_count": null,
   "metadata": {},
   "outputs": [],
   "source": []
  },
  {
   "cell_type": "code",
   "execution_count": null,
   "metadata": {},
   "outputs": [],
   "source": []
  },
  {
   "cell_type": "code",
   "execution_count": null,
   "metadata": {},
   "outputs": [],
   "source": []
  },
  {
   "cell_type": "code",
   "execution_count": null,
   "metadata": {},
   "outputs": [],
   "source": []
  },
  {
   "cell_type": "code",
   "execution_count": null,
   "metadata": {},
   "outputs": [],
   "source": []
  },
  {
   "cell_type": "code",
   "execution_count": null,
   "metadata": {},
   "outputs": [],
   "source": []
  }
 ],
 "metadata": {
  "kernelspec": {
   "display_name": "Python 3",
   "language": "python",
   "name": "python3"
  },
  "language_info": {
   "codemirror_mode": {
    "name": "ipython",
    "version": 3
   },
   "file_extension": ".py",
   "mimetype": "text/x-python",
   "name": "python",
   "nbconvert_exporter": "python",
   "pygments_lexer": "ipython3",
   "version": "3.7.9"
  }
 },
 "nbformat": 4,
 "nbformat_minor": 4
}
